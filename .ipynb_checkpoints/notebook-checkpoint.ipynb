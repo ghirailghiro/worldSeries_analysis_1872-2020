{
 "cells": [
  {
   "cell_type": "code",
   "execution_count": 1,
   "metadata": {},
   "outputs": [],
   "source": [
    "import pandas as pd\n",
    "from itertools import islice\n",
    "import matplotlib.pyplot as plt"
   ]
  },
  {
   "cell_type": "code",
   "execution_count": 8,
   "metadata": {},
   "outputs": [],
   "source": [
    "#Classe degli indicatori che ci permette di inizializzare il dataframe data una squadra in input\n",
    "\n",
    "##  Classe Indicators utilizzata per contener einformazioni su Team (= squadra scelta)  ##\n",
    "## __init__: inizializza le varie istanze dell'oggetto, che poi saranno gli indicatori di Team ##\n",
    "\n",
    "class Indicators:\n",
    "\n",
    "    def __init__(self,DataFrame,TeamChosen):\n",
    "        self.Team = TeamChosen\n",
    "        self.TeamMatches = DataFrame.loc[((DataFrame.home_team == self.Team) | (DataFrame.away_team == self.Team)) & (DataFrame.tournament == \"FIFA World Cup\")].copy()\n",
    "        self.wins = len(self.TeamMatches[((self.TeamMatches.home_team == self.Team) & (self.TeamMatches.home_score > self.TeamMatches.away_score)) | ((self.TeamMatches.away_team == self.Team) & (self.TeamMatches.home_score < self.TeamMatches.away_score))].index)\n",
    "        self.loses = len(self.TeamMatches[((self.TeamMatches.home_team == self.Team) & (self.TeamMatches.home_score < self.TeamMatches.away_score)) | ((self.TeamMatches.away_team == self.Team) & (self.TeamMatches.home_score > self.TeamMatches.away_score))].index)\n",
    "        self.drafts = len(self.TeamMatches[self.TeamMatches.home_score == self.TeamMatches.away_score].index)\n",
    "        goals_home = self.TeamMatches[['date','home_score','away_score']][(self.TeamMatches.home_team == self.Team)]\n",
    "        goals_away = self.TeamMatches[['date','away_score','home_score']][(self.TeamMatches.away_team == self.Team)]\n",
    "\n",
    "        goals_home.columns = ['date','goals_scored','goals_conceded']\n",
    "        goals_away.columns = ['date','goals_scored','goals_conceded']\n",
    "        \n",
    "        frames_goals = [goals_home,goals_away]\n",
    "        self.goals = pd.concat(frames_goals).sort_index()\n",
    "        #Convertiamo da obj a datetime per poi poter andare a fare il groupby sulla data nel metodo  plotData()\n",
    "        self.goals['date'] = pd.to_datetime(self.goals['date'])\n",
    "        #Calcoliamo media dei goal fatti e subiti\n",
    "        self.meanScores = self.goals['goals_scored'].mean()\n",
    "        self.meanConceded = self.goals['goals_conceded'].mean()\n",
    "\n",
    "    def printData(self):\n",
    "        print(\"Wins : \" + str(self.wins))\n",
    "        print(\"Loses : \" + str(self.loses))\n",
    "        print(\"Drafts : \" + str(self.drafts))\n",
    "        print(\"Sum of W+L+D : \" + str(self.wins+self.loses+self.drafts))\n",
    "        print(\"The mean of the scores made by the team : \" + str(self.meanScores))\n",
    "        print(\"The mean of the scores conceded by the team : \" + str(self.meanConceded))\n",
    "\n",
    "\n",
    "    ## plotData(): metodo utilizzato per graficare il numero dei gol fatti e subiti di Team ogni anno \n",
    "    def plotData(self):\n",
    "        self.goals['goals_difference'] = self.goals['goals_scored'] - self.goals['goals_conceded']\n",
    "        perYearPlot = self.goals.groupby(self.goals.date.dt.year).sum()\n",
    "        perYearPlot.reset_index().plot(kind = \"line\", x=\"date\", y=\"goals_scored\", label=\"Goal Scored\")\n",
    "        perYearPlot.reset_index().plot(kind = \"line\", x=\"date\", y=\"goals_conceded\", label=\"Goal Conceded\")\n",
    "        perYearPlot.reset_index().plot(kind = \"line\", x=\"date\", y=\"goals_difference\", label=\"Goal Difference\")\n",
    "        plt.show()\n",
    "    \n",
    "    ## metodi getter ##\n",
    "    def getData(self):\n",
    "        return self.wins,self.loses,self.drafts,self.meanScores,self.meanConceded\n",
    "    def getMeanScores(self):\n",
    "        return self.meanScores\n",
    "    def getMeanConceded(self):\n",
    "        return self.meanConceded\n",
    "    def getWins(self):\n",
    "        return self.wins\n",
    "    def getLoses(self):\n",
    "        return self.loses\n",
    "    def getNumMatchesPlayed(self):\n",
    "        return self.wins + self.drafts + self.loses\n",
    "    def getTeamMatches(self):\n",
    "        return self.TeamMatches\n",
    "\n",
    "    ## isBetter(): metodo utilizzato per paragonare Team con gli indicatori di altre squadre (indicatori in formato tupla) ##\n",
    "    ## paragone che viene eseguito per singolo indicatore:\n",
    "    #   - wins: numero vittorie\n",
    "    #   - loses: numero sconfitte\n",
    "    #   - attack: media gol fatti per partita\n",
    "    #   - defense: media gol subiti per partita\n",
    "    \n",
    "    def isBetter(self, otherTeamIndicators, parameter=\"wins\"):\n",
    "        if(parameter == \"wins\"):\n",
    "            return self.wins >= otherTeamIndicators[0]\n",
    "\n",
    "        if(parameter == \"loses\"):\n",
    "            return self.wins <= otherTeamIndicators[1]\n",
    "\n",
    "        if(parameter == \"attack\"):\n",
    "            return self.meanScores >= otherTeamIndicators[3]\n",
    "\n",
    "        if(parameter == \"defense\"): \n",
    "            return self.meanConceded <= otherTeamIndicators[4]\n",
    "    pass\n"
   ]
  },
  {
   "cell_type": "code",
   "execution_count": 9,
   "metadata": {},
   "outputs": [],
   "source": [
    "worldFootball = pd.read_csv(\"results.csv\")\n",
    "\n",
    "worldFootball = worldFootball[worldFootball.tournament == \"FIFA World Cup\"]"
   ]
  },
  {
   "cell_type": "code",
   "execution_count": 10,
   "metadata": {},
   "outputs": [],
   "source": [
    "TeamName = \"Italy\"\n",
    "\n",
    "Team = Indicators(worldFootball,TeamName)"
   ]
  },
  {
   "cell_type": "code",
   "execution_count": 5,
   "metadata": {},
   "outputs": [],
   "source": [
    "#Prelevo dal dataframe tutti i team#\n",
    "#prelevo da sia home_team che away_team perché potrebbero esserci squadre che han giocato solo una volta#\n",
    "\n",
    "allTeams_home = worldFootball[['home_team']].drop_duplicates()\n",
    "allTeams_away = worldFootball[['away_team']].drop_duplicates()\n",
    "\n",
    "allTeams_away.columns = ['team']\n",
    "allTeams_home.columns = ['team']\n",
    "\n",
    "allTeams = pd.concat([allTeams_away, allTeams_home]).drop_duplicates()"
   ]
  },
  {
   "cell_type": "code",
   "execution_count": 6,
   "metadata": {},
   "outputs": [],
   "source": [
    "#associo ad ogni team le proprie statistiche (indicatori)#\n",
    "\n",
    "allTeams['indicators'] = (allTeams['team'].map(lambda x: Indicators(worldFootball, x).getData()))\n"
   ]
  },
  {
   "cell_type": "code",
   "execution_count": 7,
   "metadata": {},
   "outputs": [
    {
     "name": "stdout",
     "output_type": "stream",
     "text": [
      "Better Teams\n",
      "         team                                         indicators  Pts  \\\n",
      "1327   Brazil  (73, 18, 18, 2.1009174311926606, 0.96330275229...  237   \n",
      "1690  Germany  (67, 22, 20, 2.073394495412844, 1.146788990825...  221   \n",
      "\n",
      "      isBetter  \n",
      "1327      True  \n",
      "1690      True  \n"
     ]
    }
   ],
   "source": [
    "allTeams['Pts'] =  (allTeams['indicators'].map(lambda x: x[0]*3 + x[2])) \n",
    "\n",
    "TeamPts = TeamObj.getData()\n",
    "TeamPts = TeamPts[0]*3 + TeamPts[2]\n",
    "\n",
    "BetterTeamsByPts = allTeams[['team', 'Pts']][allTeams.Pts > TeamPts]\n",
    "\n",
    "\n",
    "#print(BetterTeamsByPts)\n",
    "\n",
    "\n",
    "allTeams['isBetter'] = (allTeams['indicators'].map(lambda x: not TeamObj.isBetter(x))) \n",
    "\n",
    "betterTeams = allTeams[allTeams.isBetter == True]\n",
    "\n",
    "\n",
    "\n",
    "print(\"Better Teams\")\n",
    "#print(TeamObj.getData())\n",
    "print(betterTeams)\n"
   ]
  },
  {
   "cell_type": "code",
   "execution_count": null,
   "metadata": {},
   "outputs": [],
   "source": []
  },
  {
   "cell_type": "code",
   "execution_count": null,
   "metadata": {},
   "outputs": [],
   "source": []
  }
 ],
 "metadata": {
  "kernelspec": {
   "display_name": "Python 3",
   "language": "python",
   "name": "python3"
  },
  "language_info": {
   "codemirror_mode": {
    "name": "ipython",
    "version": 3
   },
   "file_extension": ".py",
   "mimetype": "text/x-python",
   "name": "python",
   "nbconvert_exporter": "python",
   "pygments_lexer": "ipython3",
   "version": "3.7.6"
  }
 },
 "nbformat": 4,
 "nbformat_minor": 2
}
