{
 "metadata": {
  "language_info": {
   "codemirror_mode": {
    "name": "ipython",
    "version": 3
   },
   "file_extension": ".py",
   "mimetype": "text/x-python",
   "name": "python",
   "nbconvert_exporter": "python",
   "pygments_lexer": "ipython3",
   "version": "3.7.6-final"
  },
  "orig_nbformat": 2,
  "kernelspec": {
   "name": "python3",
   "display_name": "Python 3.7.6 64-bit (conda)",
   "metadata": {
    "interpreter": {
     "hash": "c5e48f84046969b800ff52f6d80523bcd1ca3fb1a99f1449e4197bf6c73dc096"
    }
   }
  }
 },
 "nbformat": 4,
 "nbformat_minor": 2,
 "cells": [
  {
   "cell_type": "code",
   "execution_count": 3,
   "metadata": {},
   "outputs": [],
   "source": [
    "import pandas as pd\n",
    "from itertools import islice\n",
    "import matplotlib.pyplot as plt"
   ]
  },
  {
   "cell_type": "code",
   "execution_count": 4,
   "metadata": {},
   "outputs": [],
   "source": [
    "#Classe degli indicatori che ci permette di inizializzare il dataframe data una squadra in input\n",
    "class Indicators:\n",
    "\n",
    "    def __init__(self,DataFrame,TeamChosen):\n",
    "        self.Team = TeamChosen\n",
    "        self.TeamMatches = DataFrame.loc[((DataFrame.home_team == self.Team) | (DataFrame.away_team == self.Team)) & (DataFrame.tournament == \"FIFA World Cup\")].copy()\n",
    "        self.wins = len(self.TeamMatches[((self.TeamMatches.home_team == self.Team) & (self.TeamMatches.home_score > self.TeamMatches.away_score)) | ((self.TeamMatches.away_team == self.Team) & (self.TeamMatches.home_score < self.TeamMatches.away_score))].index)\n",
    "        self.loses = len(self.TeamMatches[((self.TeamMatches.home_team == self.Team) & (self.TeamMatches.home_score < self.TeamMatches.away_score)) | ((self.TeamMatches.away_team == self.Team) & (self.TeamMatches.home_score > self.TeamMatches.away_score))].index)\n",
    "        self.drafts = len(self.TeamMatches[self.TeamMatches.home_score == self.TeamMatches.away_score].index)\n",
    "        goals_home = self.TeamMatches[['date','home_score','away_score']][(self.TeamMatches.home_team == self.Team)]\n",
    "        goals_away = self.TeamMatches[['date','away_score','home_score']][(self.TeamMatches.away_team == self.Team)]\n",
    "\n",
    "        goals_home.columns = ['date','goals_scored','goals_conceded']\n",
    "        goals_away.columns = ['date','goals_scored','goals_conceded']\n",
    "        \n",
    "        frames_goals = [goals_home,goals_away]\n",
    "        self.goals= pd.concat(frames_goals).sort_index()\n",
    "        self.goals['date'] = pd.to_datetime(self.goals['date'])\n",
    "        self.meanScores = self.goals['goals_scored'].mean()\n",
    "        self.meanConceded = self.goals['goals_conceded'].mean()\n",
    "\n",
    "    def printData(self):\n",
    "        print(\"Wins : \" + str(self.wins))\n",
    "        print(\"Loses : \" + str(self.loses))\n",
    "        print(\"Drafts : \" + str(self.drafts))\n",
    "        print(\"Sum of W+L+D : \" + str(self.wins+self.loses+self.drafts))\n",
    "        print(\"The mean of the scores made by the team : \"+str(self.meanScores))\n",
    "        print(\"The mean of the scores conceded by the team : \"+str(self.meanConceded))\n",
    "        print(\"Print the indicators per match:\")\n",
    "        print(self.goals)\n",
    "\n",
    "    def plotData(self):\n",
    "        self.goals['goals_difference']=self.goals['goals_scored']-self.goals['goals_conceded']\n",
    "        perYearPlot = self.goals.groupby(self.goals.date.dt.year).sum()\n",
    "        print(perYearPlot)\n",
    "        #self.goals.plot(kind = \"line\", x=\"date\", y=\"goals_scored\", label=\"Goal Scored\")\n",
    "        #self.goals.plot(kind = \"line\", x=\"date\", y=\"goals_conceded\", label=\"Goal Conceded\")\n",
    "        #self.goals.plot(kind = \"line\", x=\"date\", y=\"goals_difference\", label=\"Goal Difference\")\n",
    "        perYearPlot.reset_index().plot(kind = \"line\", x=\"date\", y=\"goals_scored\", label=\"Goal Scored\")\n",
    "        perYearPlot.reset_index().plot(kind = \"line\", x=\"date\", y=\"goals_conceded\", label=\"Goal Conceded\")\n",
    "        perYearPlot.reset_index().plot(kind = \"line\", x=\"date\", y=\"goals_difference\", label=\"Goal Difference\")\n",
    "        plt.show()\n",
    "    \n",
    "    def printDataFrameGoals(self):\n",
    "        print(self.goals['date'])\n",
    "        print(self.goals.dtypes)\n",
    "\n",
    "    def getData(self):\n",
    "        return self.wins,self.loses,self.drafts,self.meanScores,self.meanConceded\n",
    "    \n",
    "    def getPercentuale(self):\n",
    "        total = self.wins+self.loses+self.drafts\n",
    "        return (self.wins*100)/total,(self.loses*100)/total,(self.drafts*100)/total\n",
    "\n",
    "    def isBetter(self, otherSquadIndicators):\n",
    "        if(self.wins > otherSquadIndicators[0]):\n",
    "            return True\n",
    "        if(self.wins == otherSquadIndicators[0]):\n",
    "            if(self.drafts >= otherSquadIndicators[2] and self.loses < otherSquadIndicators[1]):\n",
    "                return True\n",
    "        if(self.wins < otherSquadIndicators[0]):\n",
    "            if(self.loses > otherSquadIndicators[1]):\n",
    "                return self.wins + self.drafts > otherSquadIndicators[0] + otherSquadIndicators[1]  \n",
    "        if(self.meanScores > otherSquadIndicators[3]):\n",
    "            return True\n",
    "        if(self.meanConceded > otherSquadIndicators[4]):\n",
    "            return True\n",
    "        if(self.wins == otherSquadIndicators[0] and self.loses == otherSquadIndicators[1] and self.drafts == otherSquadIndicators[2] and self.meanScores == otherSquadIndicators[3] and self.meanConceded == otherSquadIndicators[4]):\n",
    "            return True\n",
    "        return False\n",
    "    pass\n",
    "\n"
   ]
  },
  {
   "cell_type": "code",
   "execution_count": 6,
   "metadata": {},
   "outputs": [],
   "source": [
    "worldFootball = pd.read_csv(\"results.csv\")\n",
    "\n",
    "worldFootball = worldFootball[worldFootball.tournament == \"FIFA World Cup\"]"
   ]
  },
  {
   "cell_type": "code",
   "execution_count": 7,
   "metadata": {},
   "outputs": [
    {
     "output_type": "stream",
     "name": "stdout",
     "text": [
      "Wins : 45\nLoses : 17\nDrafts : 21\nSum of W+L+D : 83\nThe mean of the scores made by the team : 1.5421686746987953\nThe mean of the scores conceded by the team : 0.927710843373494\nPrint the indicators per match:\n            date  goals_scored  goals_conceded\n1694  1934-05-27             7               1\n1699  1934-05-31             1               1\n1700  1934-06-01             1               0\n1702  1934-06-03             1               0\n1705  1934-06-10             2               1\n...          ...           ...             ...\n32174 2010-06-20             1               1\n32192 2010-06-24             2               3\n36104 2014-06-14             2               1\n36124 2014-06-20             0               1\n36140 2014-06-24             0               1\n\n[83 rows x 3 columns]\n"
     ]
    }
   ],
   "source": [
    "Team = \"Italy\"\n",
    "\n",
    "TeamObj = Indicators(worldFootball,Team)\n",
    "\n",
    "TeamObj.printData()"
   ]
  },
  {
   "cell_type": "code",
   "execution_count": 8,
   "metadata": {},
   "outputs": [],
   "source": [
    "#Prelevo dal dataframe tutti i team#\n",
    "#prelevo da sia home_team che away_team perché potrebbero esserci squadre che han giocato solo una volta#\n",
    "\n",
    "allTeams_home = worldFootball[['home_team']].drop_duplicates()\n",
    "allTeams_away = worldFootball[['away_team']].drop_duplicates()\n",
    "\n",
    "allTeams_away.columns = ['team']\n",
    "allTeams_home.columns = ['team']\n",
    "\n",
    "allTeams = pd.concat([allTeams_away, allTeams_home]).drop_duplicates()"
   ]
  },
  {
   "cell_type": "code",
   "execution_count": 9,
   "metadata": {},
   "outputs": [],
   "source": [
    "#associo ad ogni team le proprie statistiche (indicatori)#\n",
    "\n",
    "allTeams['indicators'] = (allTeams['team'].map(lambda x: Indicators(worldFootball, x).getData()))\n"
   ]
  },
  {
   "cell_type": "code",
   "execution_count": 10,
   "metadata": {},
   "outputs": [
    {
     "output_type": "stream",
     "name": "stdout",
     "text": [
      "Better Teams\n         team                                         indicators  Pts  \\\n1327   Brazil  (73, 18, 18, 2.1009174311926606, 0.96330275229...  237   \n1690  Germany  (67, 22, 20, 2.073394495412844, 1.146788990825...  221   \n\n      isBetter  \n1327      True  \n1690      True  \n"
     ]
    }
   ],
   "source": [
    "allTeams['Pts'] =  (allTeams['indicators'].map(lambda x: x[0]*3 + x[2])) \n",
    "\n",
    "TeamPts = TeamObj.getData()\n",
    "TeamPts = TeamPts[0]*3 + TeamPts[2]\n",
    "\n",
    "BetterTeamsByPts = allTeams[['team', 'Pts']][allTeams.Pts > TeamPts]\n",
    "\n",
    "\n",
    "#print(BetterTeamsByPts)\n",
    "\n",
    "\n",
    "allTeams['isBetter'] = (allTeams['indicators'].map(lambda x: not TeamObj.isBetter(x))) \n",
    "\n",
    "betterTeams = allTeams[allTeams.isBetter == True]\n",
    "\n",
    "\n",
    "\n",
    "print(\"Better Teams\")\n",
    "#print(TeamObj.getData())\n",
    "print(betterTeams)\n"
   ]
  }
 ]
}